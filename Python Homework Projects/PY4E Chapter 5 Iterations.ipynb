{
 "cells": [
  {
   "cell_type": "code",
   "execution_count": null,
   "id": "4d0c4668",
   "metadata": {},
   "outputs": [],
   "source": [
    "count = 0\n",
    "total = 0\n",
    "average = 0\n",
    "\n",
    "while True:\n",
    "    input_value = input('Enter Number ')\n",
    "    if input_value == \"done\":\n",
    "        break\n",
    "    try:\n",
    "        input_value = int(input_value)\n",
    "        count = count+1\n",
    "        total = total+input_value\n",
    "    except:\n",
    "        print('Invalid Entry')\n",
    "    if count:\n",
    "        average = total/count\n",
    "print(count, total, average)"
   ]
  },
  {
   "cell_type": "code",
   "execution_count": null,
   "id": "865ec6c6",
   "metadata": {},
   "outputs": [],
   "source": [
    "min = \"\"\n",
    "max = \"\"\n",
    "count = 0\n",
    "\n",
    "while True:\n",
    "    num_input = input(\"Enter Number\")\n",
    "    if num_input == \"done\":\n",
    "        print(\"Minimum number entered \"+str(min))\n",
    "        print(\"Max number entered \"+str(max))\n",
    "        break\n",
    "        \n",
    "    else:\n",
    "        try:\n",
    "            if count == 0:\n",
    "                min = float(num_input)\n",
    "                max = float(num_input)\n",
    "                count = count+1\n",
    "            else:\n",
    "                if float(num_input) > max:\n",
    "                    max = float(num_input)\n",
    "                else:\n",
    "                    if float(num_input) < min:\n",
    "                        min = float(num_input)\n",
    "                        \n",
    "        except:\n",
    "            print(\"Numbers Only Please\")"
   ]
  },
  {
   "cell_type": "code",
   "execution_count": null,
   "id": "f7518e22",
   "metadata": {},
   "outputs": [],
   "source": []
  }
 ],
 "metadata": {
  "kernelspec": {
   "display_name": "Python 3 (ipykernel)",
   "language": "python",
   "name": "python3"
  },
  "language_info": {
   "codemirror_mode": {
    "name": "ipython",
    "version": 3
   },
   "file_extension": ".py",
   "mimetype": "text/x-python",
   "name": "python",
   "nbconvert_exporter": "python",
   "pygments_lexer": "ipython3",
   "version": "3.10.6"
  }
 },
 "nbformat": 4,
 "nbformat_minor": 5
}
