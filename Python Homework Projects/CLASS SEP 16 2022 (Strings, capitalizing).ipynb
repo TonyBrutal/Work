{
 "cells": [
  {
   "cell_type": "code",
   "execution_count": null,
   "id": "da073cc6",
   "metadata": {},
   "outputs": [],
   "source": [
    "my_name = 'Anthony DeRosia'\n",
    "second = my_name[1]\n",
    "print(second)"
   ]
  },
  {
   "cell_type": "code",
   "execution_count": null,
   "id": "91730f76",
   "metadata": {},
   "outputs": [],
   "source": [
    "my_name = 'Anthony DeRosia'\n",
    "second = my_name[1]\n",
    "print(len(my_name))"
   ]
  },
  {
   "cell_type": "code",
   "execution_count": null,
   "id": "e2427c28",
   "metadata": {},
   "outputs": [],
   "source": [
    "my_name = 'Anthony DeRosia'\n",
    "second = my_name[14]\n",
    "print(second)"
   ]
  },
  {
   "cell_type": "code",
   "execution_count": null,
   "id": "342f070f",
   "metadata": {},
   "outputs": [],
   "source": [
    "print(my_name[14])"
   ]
  },
  {
   "cell_type": "code",
   "execution_count": null,
   "id": "674d1a1b",
   "metadata": {},
   "outputs": [],
   "source": [
    "length = len(my_name)\n",
    "pos = 0\n",
    "while pos < length:\n",
    "    print(my_name[pos])\n",
    "    pos = pos + 1"
   ]
  },
  {
   "cell_type": "code",
   "execution_count": null,
   "id": "00c10a54",
   "metadata": {},
   "outputs": [],
   "source": [
    "for whateveris in my_name:\n",
    "    print(whateveris)"
   ]
  },
  {
   "cell_type": "code",
   "execution_count": null,
   "id": "bd0d40cc",
   "metadata": {},
   "outputs": [],
   "source": [
    "straddle = (my_name[6:9])\n",
    "print(straddle)"
   ]
  },
  {
   "cell_type": "code",
   "execution_count": null,
   "id": "10f4db5a",
   "metadata": {},
   "outputs": [],
   "source": [
    "blank_pos = 7\n",
    "first_name = (my_name[:blank_pos])\n",
    "last_name = (my_name[blank_pos +1:])\n",
    "print(blank_pos, first_name, last_name)"
   ]
  },
  {
   "cell_type": "code",
   "execution_count": null,
   "id": "32f1da39",
   "metadata": {},
   "outputs": [],
   "source": [
    "blank_pos_2 = my_name.find(' ')\n",
    "print(blank_pos == blank_pos_2)"
   ]
  },
  {
   "cell_type": "code",
   "execution_count": null,
   "id": "c950c2b5",
   "metadata": {},
   "outputs": [],
   "source": [
    "lower_name = my_name.lower()\n",
    "cap_name = my_name.title()\n",
    "upper_name = my_name.upper()\n",
    "print(lower_name, cap_name, upper_name)"
   ]
  },
  {
   "cell_type": "code",
   "execution_count": null,
   "id": "998e577e",
   "metadata": {},
   "outputs": [],
   "source": [
    "def check():  \n",
    "    if name.endswith('sen') or name.endswith('son') == True:\n",
    "        return(True)\n",
    "    else:\n",
    "        return(false)"
   ]
  },
  {
   "cell_type": "code",
   "execution_count": null,
   "id": "a0a92f36",
   "metadata": {},
   "outputs": [],
   "source": [
    "check()"
   ]
  },
  {
   "cell_type": "code",
   "execution_count": null,
   "id": "310b6626",
   "metadata": {},
   "outputs": [],
   "source": [
    "def check(name):\n",
    "    return name.endswith('son') or name.endswith('sen')\n",
    "print(check('Johnson'))"
   ]
  },
  {
   "cell_type": "code",
   "execution_count": null,
   "id": "281318f0",
   "metadata": {},
   "outputs": [],
   "source": [
    "s = 'abc'\n",
    "s[0] = 'A'\n",
    "print(s)"
   ]
  },
  {
   "cell_type": "code",
   "execution_count": null,
   "id": "3eddb227",
   "metadata": {},
   "outputs": [],
   "source": [
    "s = 'abcdefghijklmnopqrstuvwxyz'\n",
    "s=\"A\" + s[1:]\n",
    "print(s)"
   ]
  },
  {
   "cell_type": "code",
   "execution_count": null,
   "id": "5c2084b8",
   "metadata": {},
   "outputs": [],
   "source": [
    "vowels = 'a,e,i,o,u,A,E,I,O,U'\n",
    "res = ''\n",
    "s = \"Use this fact\"\n",
    "\n",
    "for i in s:\n",
    "    if i in vowels:\n",
    "        res = res + i\n",
    "print(res)"
   ]
  },
  {
   "cell_type": "code",
   "execution_count": 8,
   "id": "366f1844",
   "metadata": {},
   "outputs": [],
   "source": [
    "def docname():\n",
    "    file_name = input(\"Input file name\")\n",
    "    doc_name = file_name.index(\".\")\n",
    "    ##doc_name = file_name.find(\".\") works the same##\n",
    "    print(file_name[doc_name:])"
   ]
  },
  {
   "cell_type": "code",
   "execution_count": 9,
   "id": "a94237b0",
   "metadata": {},
   "outputs": [
    {
     "name": "stdout",
     "output_type": "stream",
     "text": [
      "Input file nameasd.jpg\n",
      ".jpg\n"
     ]
    }
   ],
   "source": [
    "docname()"
   ]
  },
  {
   "cell_type": "code",
   "execution_count": null,
   "id": "4f123170",
   "metadata": {},
   "outputs": [],
   "source": []
  }
 ],
 "metadata": {
  "kernelspec": {
   "display_name": "Python 3 (ipykernel)",
   "language": "python",
   "name": "python3"
  },
  "language_info": {
   "codemirror_mode": {
    "name": "ipython",
    "version": 3
   },
   "file_extension": ".py",
   "mimetype": "text/x-python",
   "name": "python",
   "nbconvert_exporter": "python",
   "pygments_lexer": "ipython3",
   "version": "3.10.6"
  }
 },
 "nbformat": 4,
 "nbformat_minor": 5
}
