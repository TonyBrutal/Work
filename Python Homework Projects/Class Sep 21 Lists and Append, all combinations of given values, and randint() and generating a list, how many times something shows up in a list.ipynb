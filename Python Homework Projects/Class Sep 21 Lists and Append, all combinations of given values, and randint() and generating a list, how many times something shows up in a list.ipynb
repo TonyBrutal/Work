{
 "cells": [
  {
   "cell_type": "code",
   "execution_count": 1,
   "id": "c27c324e",
   "metadata": {},
   "outputs": [
    {
     "name": "stdout",
     "output_type": "stream",
     "text": [
      "['Washington', 'California', 'Oregon', 'Alaska']\n"
     ]
    }
   ],
   "source": [
    "west_coast = ['Washington', 'California', 'Oregon', 'Alaska']\n",
    "print(west_coast)"
   ]
  },
  {
   "cell_type": "code",
   "execution_count": null,
   "id": "c54bc69a",
   "metadata": {},
   "outputs": [],
   "source": [
    "for x in west_coast:\n",
    "    print(x)"
   ]
  },
  {
   "cell_type": "code",
   "execution_count": null,
   "id": "8571312f",
   "metadata": {},
   "outputs": [],
   "source": [
    "print(west_coast[1])"
   ]
  },
  {
   "cell_type": "code",
   "execution_count": null,
   "id": "efaa7835",
   "metadata": {},
   "outputs": [],
   "source": [
    "print(len(west_coast))"
   ]
  },
  {
   "cell_type": "code",
   "execution_count": null,
   "id": "7a1edfc4",
   "metadata": {},
   "outputs": [],
   "source": [
    "print(type(range(4)))"
   ]
  },
  {
   "cell_type": "code",
   "execution_count": 2,
   "id": "8764b81e",
   "metadata": {},
   "outputs": [
    {
     "name": "stdout",
     "output_type": "stream",
     "text": [
      "['Washington', 'California', 'Oregon', 'Alaska', 'Florida', 'Georgia', 'South Carolina']\n"
     ]
    }
   ],
   "source": [
    "opposite_corner = ['Florida', 'Georgia', 'South Carolina']\n",
    "corners = west_coast + opposite_corner\n",
    "print(corners)"
   ]
  },
  {
   "cell_type": "code",
   "execution_count": null,
   "id": "3174b47d",
   "metadata": {},
   "outputs": [],
   "source": [
    "corners.append('North Carolina')\n",
    "print(corners)"
   ]
  },
  {
   "cell_type": "code",
   "execution_count": null,
   "id": "9bb18e91",
   "metadata": {},
   "outputs": [],
   "source": [
    "corners.insert(4,\"Alabama\")\n",
    "print(corners)"
   ]
  },
  {
   "cell_type": "code",
   "execution_count": null,
   "id": "0e37508c",
   "metadata": {},
   "outputs": [],
   "source": [
    "truth_values = [True,False]\n",
    "for p in truth_values:\n",
    "    for q in truth_values:\n",
    "        for r in truth_values:\n",
    "            print(p,q,r)"
   ]
  },
  {
   "cell_type": "code",
   "execution_count": 3,
   "id": "6cd5b16b",
   "metadata": {},
   "outputs": [
    {
     "name": "stdout",
     "output_type": "stream",
     "text": [
      "65\n"
     ]
    }
   ],
   "source": [
    "import random\n",
    "\n",
    "print(random.randint(7, 77))"
   ]
  },
  {
   "cell_type": "code",
   "execution_count": 4,
   "id": "550ab683",
   "metadata": {},
   "outputs": [
    {
     "name": "stdout",
     "output_type": "stream",
     "text": [
      "87\n"
     ]
    }
   ],
   "source": [
    "import random\n",
    "x = random.randint(0, 100)\n",
    "print(x)"
   ]
  },
  {
   "cell_type": "code",
   "execution_count": 7,
   "id": "28ad82ad",
   "metadata": {},
   "outputs": [
    {
     "name": "stdout",
     "output_type": "stream",
     "text": [
      "[71]\n",
      "[71, 78]\n",
      "[71, 78, 82]\n",
      "[71, 78, 82, 100]\n",
      "[71, 78, 82, 100, 56]\n",
      "[71, 78, 82, 100, 56, 79]\n",
      "[71, 78, 82, 100, 56, 79, 71]\n",
      "[71, 78, 82, 100, 56, 79, 71, 1]\n",
      "[71, 78, 82, 100, 56, 79, 71, 1, 91]\n",
      "[71, 78, 82, 100, 56, 79, 71, 1, 91, 87]\n",
      "[71, 78, 82, 100, 56, 79, 71, 1, 91, 87, 70]\n",
      "[71, 78, 82, 100, 56, 79, 71, 1, 91, 87, 70, 98]\n",
      "[71, 78, 82, 100, 56, 79, 71, 1, 91, 87, 70, 98, 24]\n",
      "[71, 78, 82, 100, 56, 79, 71, 1, 91, 87, 70, 98, 24, 7]\n",
      "[71, 78, 82, 100, 56, 79, 71, 1, 91, 87, 70, 98, 24, 7, 41]\n",
      "[71, 78, 82, 100, 56, 79, 71, 1, 91, 87, 70, 98, 24, 7, 41, 80]\n",
      "[71, 78, 82, 100, 56, 79, 71, 1, 91, 87, 70, 98, 24, 7, 41, 80, 12]\n",
      "[71, 78, 82, 100, 56, 79, 71, 1, 91, 87, 70, 98, 24, 7, 41, 80, 12, 37]\n",
      "[71, 78, 82, 100, 56, 79, 71, 1, 91, 87, 70, 98, 24, 7, 41, 80, 12, 37, 62]\n",
      "[71, 78, 82, 100, 56, 79, 71, 1, 91, 87, 70, 98, 24, 7, 41, 80, 12, 37, 62, 44]\n"
     ]
    }
   ],
   "source": [
    "import random\n",
    "randlist = []\n",
    "for i in range(20): \n",
    "    randlist.append(random.randint(0,100))\n",
    "print(randlist)"
   ]
  },
  {
   "cell_type": "code",
   "execution_count": 25,
   "id": "58ea08a9",
   "metadata": {},
   "outputs": [
    {
     "name": "stdout",
     "output_type": "stream",
     "text": [
      "[60, 92, 60, 4, 79, 36, 7, 15, 11, 57, 82, 53, 18, 74, 75, 45, 14, 33, 45, 79]\n"
     ]
    }
   ],
   "source": [
    "import random\n",
    "randlist = []\n",
    "for i in range(20): \n",
    "    randlist.append(random.randint(0,100))\n",
    "print(randlist)"
   ]
  },
  {
   "cell_type": "code",
   "execution_count": 15,
   "id": "84fa9343",
   "metadata": {},
   "outputs": [
    {
     "name": "stdout",
     "output_type": "stream",
     "text": [
      "[7, 9, 12, 13, 21, 22, 25, 28, 32, 40, 44, 55, 59, 66, 68, 72, 86, 88, 89, 90]\n"
     ]
    }
   ],
   "source": [
    "randlist.sort()\n",
    "print(randlist)"
   ]
  },
  {
   "cell_type": "code",
   "execution_count": 21,
   "id": "0c68a0a6",
   "metadata": {},
   "outputs": [
    {
     "name": "stdout",
     "output_type": "stream",
     "text": [
      "[8]\n",
      "[8]\n",
      "[8]\n",
      "[8]\n",
      "[8]\n",
      "[8]\n",
      "[8]\n",
      "[8]\n",
      "[8]\n",
      "[8]\n",
      "[8]\n",
      "[8]\n",
      "[8]\n",
      "[8]\n",
      "[8]\n",
      "[8]\n",
      "[8]\n",
      "[8]\n",
      "[8]\n",
      "[8]\n"
     ]
    }
   ],
   "source": [
    "import random\n",
    "randlist = []\n",
    "appended_list = randlist.append(random.randint(0,100))\n",
    "for i in range(20): \n",
    "    ##randlist.append(random.randint(0,100))\n",
    "    ##randlist.sort()\n",
    "    print(randlist)"
   ]
  },
  {
   "cell_type": "code",
   "execution_count": 27,
   "id": "84a9a0a1",
   "metadata": {},
   "outputs": [
    {
     "name": "stdout",
     "output_type": "stream",
     "text": [
      "None\n",
      "[100]\n"
     ]
    }
   ],
   "source": [
    "import random\n",
    "randlist = []\n",
    "appended_list = randlist.append(100)\n",
    "##for i in range(20):\n",
    "print(appended_list)\n",
    "print(randlist)"
   ]
  },
  {
   "cell_type": "code",
   "execution_count": 43,
   "id": "5091cded",
   "metadata": {},
   "outputs": [],
   "source": [
    "def how_many_a_in_li(a, li):\n",
    "    count = 0\n",
    "    for item in li:\n",
    "        if a == item:\n",
    "            count = count +1\n",
    "    return(count)"
   ]
  },
  {
   "cell_type": "code",
   "execution_count": 46,
   "id": "460a2bc6",
   "metadata": {},
   "outputs": [
    {
     "data": {
      "text/plain": [
       "3"
      ]
     },
     "execution_count": 46,
     "metadata": {},
     "output_type": "execute_result"
    }
   ],
   "source": [
    "how_many_a_in_li(2, [1,2,2,3,2,4]) ## (looking_for, test_list) ##"
   ]
  },
  {
   "cell_type": "code",
   "execution_count": 49,
   "id": "d1e26256",
   "metadata": {},
   "outputs": [
    {
     "data": {
      "text/plain": [
       "4"
      ]
     },
     "execution_count": 49,
     "metadata": {},
     "output_type": "execute_result"
    }
   ],
   "source": [
    "how_many_a_in_li(\"a\",'Mary had a little lamb')"
   ]
  },
  {
   "cell_type": "code",
   "execution_count": 61,
   "id": "06572ea3",
   "metadata": {},
   "outputs": [
    {
     "name": "stdout",
     "output_type": "stream",
     "text": [
      "['1', '2', '3', 'a', 'b', 'c']\n",
      "['1', '2', '3', ['a', 'b', 'c']]\n",
      "4\n"
     ]
    }
   ],
   "source": [
    "a_list = ['1','2','3']\n",
    "b_list = ['a','b','c']\n",
    "\n",
    "x = a_list+b_list\n",
    "print(x)\n",
    "a_list.append(b_list)\n",
    "print(a_list)\n",
    "print(len(a_list))"
   ]
  },
  {
   "cell_type": "code",
   "execution_count": 84,
   "id": "58372ecc",
   "metadata": {},
   "outputs": [],
   "source": [
    "def undup(l):\n",
    "    count = []\n",
    "    for i in l:\n",
    "        if i in count:\n",
    "            continue\n",
    "        else:\n",
    "            count.append(i)\n",
    "    return(count)"
   ]
  },
  {
   "cell_type": "code",
   "execution_count": 85,
   "id": "60bfc2cc",
   "metadata": {},
   "outputs": [
    {
     "data": {
      "text/plain": [
       "[1, 2, 3, 4, 5]"
      ]
     },
     "execution_count": 85,
     "metadata": {},
     "output_type": "execute_result"
    }
   ],
   "source": [
    "undup([1,2,3,3,4,1,5,5,5])"
   ]
  },
  {
   "cell_type": "code",
   "execution_count": 100,
   "id": "69d571ab",
   "metadata": {},
   "outputs": [],
   "source": [
    "def undup(l):\n",
    "    count = []\n",
    "    for i in l:\n",
    "        if i not in count:\n",
    "            count.append(i)\n",
    "    return(count)"
   ]
  },
  {
   "cell_type": "code",
   "execution_count": 105,
   "id": "e5ae06f2",
   "metadata": {},
   "outputs": [
    {
     "data": {
      "text/plain": [
       "[1, 2, 3, 4, 5]"
      ]
     },
     "execution_count": 105,
     "metadata": {},
     "output_type": "execute_result"
    }
   ],
   "source": [
    "undup([1,2,3,3,4,1,5,5,5])"
   ]
  },
  {
   "cell_type": "code",
   "execution_count": 106,
   "id": "2efac179",
   "metadata": {},
   "outputs": [
    {
     "data": {
      "text/plain": [
       "['M', 'a', 'r', 'y', ' ', 'h', 'd', 'l', 'i', 't', 'e', 'm', 'b']"
      ]
     },
     "execution_count": 106,
     "metadata": {},
     "output_type": "execute_result"
    }
   ],
   "source": [
    "undup('Mary had a little lamb')"
   ]
  },
  {
   "cell_type": "code",
   "execution_count": 123,
   "id": "1be12665",
   "metadata": {},
   "outputs": [
    {
     "name": "stdout",
     "output_type": "stream",
     "text": [
      "[5, 15, 3.0]\n"
     ]
    }
   ],
   "source": [
    "def numres(nl):\n",
    "    sum = 0\n",
    "    for n in nl:\n",
    "        sum = sum + n\n",
    "    mean = sum/len(nl)\n",
    "    return[len(nl), sum, mean]\n",
    "\n",
    "test_list = [1,2,3,4,5]\n",
    "print(numres(test_list))"
   ]
  },
  {
   "cell_type": "code",
   "execution_count": 129,
   "id": "706dc54a",
   "metadata": {},
   "outputs": [
    {
     "name": "stdout",
     "output_type": "stream",
     "text": [
      "2\n"
     ]
    }
   ],
   "source": [
    "xlist = [1, [\"a\",\"b\",[\"x\",\"y\"]]]\n",
    "print(len(xlist))"
   ]
  },
  {
   "cell_type": "code",
   "execution_count": 131,
   "id": "01a9c3c3",
   "metadata": {},
   "outputs": [
    {
     "name": "stdout",
     "output_type": "stream",
     "text": [
      "1\n"
     ]
    }
   ],
   "source": [
    "print(xlist[0])"
   ]
  },
  {
   "cell_type": "code",
   "execution_count": 136,
   "id": "d4860643",
   "metadata": {},
   "outputs": [
    {
     "name": "stdout",
     "output_type": "stream",
     "text": [
      "b\n"
     ]
    }
   ],
   "source": [
    "print(xlist[1][1])"
   ]
  },
  {
   "cell_type": "code",
   "execution_count": 139,
   "id": "f452e868",
   "metadata": {},
   "outputs": [
    {
     "name": "stdout",
     "output_type": "stream",
     "text": [
      "y\n"
     ]
    }
   ],
   "source": [
    "print(xlist[1][2][1])"
   ]
  },
  {
   "cell_type": "code",
   "execution_count": null,
   "id": "b21dfd96",
   "metadata": {},
   "outputs": [],
   "source": []
  }
 ],
 "metadata": {
  "kernelspec": {
   "display_name": "Python 3 (ipykernel)",
   "language": "python",
   "name": "python3"
  },
  "language_info": {
   "codemirror_mode": {
    "name": "ipython",
    "version": 3
   },
   "file_extension": ".py",
   "mimetype": "text/x-python",
   "name": "python",
   "nbconvert_exporter": "python",
   "pygments_lexer": "ipython3",
   "version": "3.10.6"
  }
 },
 "nbformat": 4,
 "nbformat_minor": 5
}
