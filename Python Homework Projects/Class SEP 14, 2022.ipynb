{
 "cells": [
  {
   "cell_type": "code",
   "execution_count": null,
   "id": "dde9e5c2",
   "metadata": {},
   "outputs": [],
   "source": [
    "i = 0\n",
    "while i < 5:\n",
    "    i = i+1\n",
    "    print(i)"
   ]
  },
  {
   "cell_type": "code",
   "execution_count": null,
   "id": "23fb7210",
   "metadata": {},
   "outputs": [],
   "source": [
    "i = 0\n",
    "while i <= 4:\n",
    "    i = i+1\n",
    "    print(i)"
   ]
  },
  {
   "cell_type": "code",
   "execution_count": null,
   "id": "3a6835ab",
   "metadata": {},
   "outputs": [],
   "source": [
    "i = 1\n",
    "while i <= 5:\n",
    "    print(i)\n",
    "    i = i+1"
   ]
  },
  {
   "cell_type": "code",
   "execution_count": null,
   "id": "45caa91f",
   "metadata": {},
   "outputs": [],
   "source": [
    "for i in range(5):\n",
    "    print(i)"
   ]
  },
  {
   "cell_type": "code",
   "execution_count": null,
   "id": "5af50487",
   "metadata": {},
   "outputs": [],
   "source": [
    "for i in range(1,6):\n",
    "    print(i)"
   ]
  },
  {
   "cell_type": "code",
   "execution_count": null,
   "id": "b323d506",
   "metadata": {},
   "outputs": [],
   "source": [
    "for i in range(5):\n",
    "    print(i+1)"
   ]
  },
  {
   "cell_type": "code",
   "execution_count": null,
   "id": "a724d315",
   "metadata": {},
   "outputs": [],
   "source": [
    "for i in range(1,6):\n",
    "    print(\"Loser Number \",i)"
   ]
  },
  {
   "cell_type": "code",
   "execution_count": null,
   "id": "782d514c",
   "metadata": {},
   "outputs": [],
   "source": [
    "for i in range(5):\n",
    "    j = i**2\n",
    "    if i == 3:\n",
    "        break\n",
    "    print(i,j)"
   ]
  },
  {
   "cell_type": "code",
   "execution_count": null,
   "id": "9fc8f658",
   "metadata": {},
   "outputs": [],
   "source": [
    "for i in range(5):\n",
    "    j = i**2\n",
    "    if i == 10:\n",
    "        break\n",
    "    print(i,j)"
   ]
  },
  {
   "cell_type": "code",
   "execution_count": null,
   "id": "79a94fb8",
   "metadata": {},
   "outputs": [],
   "source": [
    "for i in range(5):\n",
    "    j = i**2\n",
    "    if i == 3:\n",
    "        continue\n",
    "    print(i,j)"
   ]
  },
  {
   "cell_type": "code",
   "execution_count": null,
   "id": "aff0a23f",
   "metadata": {},
   "outputs": [],
   "source": [
    "i = int(input('Input a number: '))\n"
   ]
  },
  {
   "cell_type": "code",
   "execution_count": null,
   "id": "d6ff1536",
   "metadata": {},
   "outputs": [],
   "source": [
    "num = input('How many hours? ')\n",
    "\n",
    "try:\n",
    "    if num = int(num)\n",
    "        \n",
    "except:\n",
    "    print(\"Woah buddy!\")"
   ]
  },
  {
   "cell_type": "code",
   "execution_count": null,
   "id": "5583f377",
   "metadata": {},
   "outputs": [],
   "source": [
    "total = 0\n",
    "\n",
    "while True:\n",
    "    input_value = input('Enter Number ')\n",
    "    if input_value == \"done\":\n",
    "        break\n",
    "    try:\n",
    "        input_value = int(input_value)\n",
    "        total = total+input_value\n",
    "    except:\n",
    "        print('Invalid Entry')"
   ]
  },
  {
   "cell_type": "code",
   "execution_count": null,
   "id": "bc47f4ad",
   "metadata": {},
   "outputs": [],
   "source": [
    "total = 0\n",
    "\n",
    "while True:\n",
    "    input_value = input('Enter Number ')\n",
    "    try:\n",
    "        input_value = int(input_value)\n",
    "        break\n",
    "    except:\n",
    "        print('Invalid Entry')\n",
    "        continue\n",
    "        print(\"ok\")\n",
    "        "
   ]
  },
  {
   "cell_type": "code",
   "execution_count": null,
   "id": "103577b3",
   "metadata": {},
   "outputs": [],
   "source": [
    "while True:\n",
    "    n_str = input(\"Give me an integer: \")\n",
    "    try:\n",
    "        n_int = int(n_str)\n",
    "        break\n",
    "    except:\n",
    "        print(\"Try again\")\n",
    "print(\"Success: int is \", n_int)"
   ]
  },
  {
   "cell_type": "code",
   "execution_count": null,
   "id": "a669fa18",
   "metadata": {},
   "outputs": [],
   "source": [
    "my_list = [\"holy\", \"Moly\", 3]\n",
    "print(my_list[0])"
   ]
  },
  {
   "cell_type": "code",
   "execution_count": null,
   "id": "0568afa1",
   "metadata": {},
   "outputs": [],
   "source": [
    "for boogaloo in my_list:\n",
    "    print(boogaloo)"
   ]
  },
  {
   "cell_type": "code",
   "execution_count": null,
   "id": "03ee1c7f",
   "metadata": {},
   "outputs": [],
   "source": [
    "for boogaloo in range(3):\n",
    "    print(my_list[boogaloo])"
   ]
  },
  {
   "cell_type": "code",
   "execution_count": null,
   "id": "e8bf1027",
   "metadata": {},
   "outputs": [],
   "source": [
    "def avg_the_list(n_list):\n",
    "    count = 0\n",
    "    average = 0\n",
    "    total = 0\n",
    "    n_list = [1,2,3,4]\n",
    "    \n",
    "    for i in n_list:\n",
    "        count = count+1\n",
    "        total = total+i\n",
    "        average = total/count\n",
    "    return(average)"
   ]
  },
  {
   "cell_type": "code",
   "execution_count": null,
   "id": "c7f363f4",
   "metadata": {},
   "outputs": [],
   "source": [
    "avg_the_list(n_list)"
   ]
  },
  {
   "cell_type": "code",
   "execution_count": null,
   "id": "c61eda66",
   "metadata": {},
   "outputs": [],
   "source": [
    "def avg_the_list(n_list):\n",
    "    count = 0\n",
    "    total = 0\n",
    "    n_list = [1,2,3,4]\n",
    "    \n",
    "    for i in n_list:\n",
    "        count = count+1\n",
    "        total = total+i\n",
    "        average = total/count\n",
    "    return(average)"
   ]
  },
  {
   "cell_type": "code",
   "execution_count": null,
   "id": "42ed1387",
   "metadata": {},
   "outputs": [],
   "source": [
    "avg_the_list(n_list)"
   ]
  },
  {
   "cell_type": "code",
   "execution_count": null,
   "id": "a5d1cbfa",
   "metadata": {},
   "outputs": [],
   "source": [
    "def avg_the_odds(n_list):\n",
    "    count = 0\n",
    "    total = 0\n",
    "    test_list = [1,2,3,4]\n",
    "    for i in n_list:\n",
    "        if i % 2 != 0:\n",
    "            count = count+1\n",
    "            total = total+i\n",
    "    average = total/count\n",
    "    return(average)"
   ]
  },
  {
   "cell_type": "code",
   "execution_count": null,
   "id": "5a0c446b",
   "metadata": {},
   "outputs": [],
   "source": [
    "avg_the_odds(n_list)"
   ]
  },
  {
   "cell_type": "code",
   "execution_count": null,
   "id": "5b4630f0",
   "metadata": {},
   "outputs": [],
   "source": [
    "def largest(nl):\n",
    "    x=nl[0]\n",
    "    for i in nl:\n",
    "        if i > x:\n",
    "            x = i\n",
    "    return x"
   ]
  },
  {
   "cell_type": "code",
   "execution_count": null,
   "id": "ceda8020",
   "metadata": {},
   "outputs": [],
   "source": [
    "nl = [1,-5,16,76,127,4]"
   ]
  },
  {
   "cell_type": "code",
   "execution_count": null,
   "id": "f581a6a5",
   "metadata": {},
   "outputs": [],
   "source": [
    "largest(nl)"
   ]
  },
  {
   "cell_type": "code",
   "execution_count": null,
   "id": "6180c9fa",
   "metadata": {},
   "outputs": [],
   "source": [
    "def smallest(nl):\n",
    "    x=nl[0]\n",
    "    for i in nl:\n",
    "        if i < x:\n",
    "            x = i\n",
    "    return x"
   ]
  },
  {
   "cell_type": "code",
   "execution_count": null,
   "id": "75dadf8e",
   "metadata": {},
   "outputs": [],
   "source": [
    "nl = [1,-5,16,76,127,4]"
   ]
  },
  {
   "cell_type": "code",
   "execution_count": null,
   "id": "6c4a6c3b",
   "metadata": {},
   "outputs": [],
   "source": [
    "smallest(nl)"
   ]
  },
  {
   "cell_type": "code",
   "execution_count": 14,
   "id": "582fff45",
   "metadata": {},
   "outputs": [
    {
     "name": "stdout",
     "output_type": "stream",
     "text": [
      "255\n"
     ]
    }
   ],
   "source": [
    "sum=0\n",
    "for i in range(10):\n",
    "    if i >= 4 and i <= 8:\n",
    "        i = i+1\n",
    "        sum = sum+(i**2)\n",
    "print(sum)"
   ]
  },
  {
   "cell_type": "code",
   "execution_count": null,
   "id": "b11aa9ac",
   "metadata": {},
   "outputs": [],
   "source": []
  }
 ],
 "metadata": {
  "kernelspec": {
   "display_name": "Python 3 (ipykernel)",
   "language": "python",
   "name": "python3"
  },
  "language_info": {
   "codemirror_mode": {
    "name": "ipython",
    "version": 3
   },
   "file_extension": ".py",
   "mimetype": "text/x-python",
   "name": "python",
   "nbconvert_exporter": "python",
   "pygments_lexer": "ipython3",
   "version": "3.10.6"
  }
 },
 "nbformat": 4,
 "nbformat_minor": 5
}
