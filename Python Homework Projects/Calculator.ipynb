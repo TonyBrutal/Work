{
 "cells": [
  {
   "cell_type": "code",
   "execution_count": 34,
   "id": "d1487467",
   "metadata": {},
   "outputs": [],
   "source": [
    "def my_calc():\n",
    "    num1 = float(input(\"Input first number \"))\n",
    "    operator = input(\"Input operator: \")\n",
    "    num2 = float(input(\"Input second number \"))\n",
    "    \n",
    "    \n",
    "    if operator == \"-\":\n",
    "        print(\"Answer: \",num1 - num2)\n",
    "    elif operator == \"*\":\n",
    "        print(\"Answer: \" , num1 * num2 )\n",
    "    elif operator == \"/\":\n",
    "        print(\"Answer: \" , num1 / num2)\n",
    "    elif operator == \"+\":\n",
    "        print(\"Answer: \" , num1 + num2)\n",
    "    elif operator == \"%\":\n",
    "        print(\"Answer: \" , num1 % num2)\n",
    "    else:\n",
    "        print(\"Invalid choice\")\n",
    "        return(my_calc())"
   ]
  },
  {
   "cell_type": "code",
   "execution_count": 4,
   "id": "fbca8135",
   "metadata": {},
   "outputs": [],
   "source": [
    "def my_calc():\n",
    "    num1 = float(input(\"Input first number \"))\n",
    "    operator = input(\"Input operator: \")\n",
    "    num2 = float(input(\"Input second number \"))\n",
    "    \n",
    "    \n",
    "    if operator == \"-\":\n",
    "        print(\"Answer: \",num1 - num2)\n",
    "    elif operator == \"*\":\n",
    "        print(\"Answer: \" , num1 * num2 )\n",
    "    elif operator == \"/\":\n",
    "        print(\"Answer: \" , num1 / num2)\n",
    "    elif operator == \"+\":\n",
    "        print(\"Answer: \" , num1 + num2)\n",
    "    elif operator == \"%\":\n",
    "        print(\"Answer: \" , num1 % num2)\n",
    "    else:\n",
    "        print(\"Invalid choice\")\n",
    "        return(my_calc())"
   ]
  },
  {
   "cell_type": "code",
   "execution_count": null,
   "id": "bdc54262",
   "metadata": {},
   "outputs": [],
   "source": []
  }
 ],
 "metadata": {
  "kernelspec": {
   "display_name": "Python 3 (ipykernel)",
   "language": "python",
   "name": "python3"
  },
  "language_info": {
   "codemirror_mode": {
    "name": "ipython",
    "version": 3
   },
   "file_extension": ".py",
   "mimetype": "text/x-python",
   "name": "python",
   "nbconvert_exporter": "python",
   "pygments_lexer": "ipython3",
   "version": "3.10.6"
  }
 },
 "nbformat": 4,
 "nbformat_minor": 5
}
