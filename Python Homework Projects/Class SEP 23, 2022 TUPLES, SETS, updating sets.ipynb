{
 "cells": [
  {
   "cell_type": "code",
   "execution_count": 63,
   "id": "2c46f523",
   "metadata": {},
   "outputs": [
    {
     "name": "stdout",
     "output_type": "stream",
     "text": [
      "('I', 'want', 'your', 'money', ',', 'hand', 'it', 'over') ('or', 'else', '!')\n"
     ]
    }
   ],
   "source": [
    "t = ('I','want','your','money',',','hand','it','over')\n",
    "x = ('or','else','!')\n",
    "print(t,x)"
   ]
  },
  {
   "cell_type": "code",
   "execution_count": 64,
   "id": "889898d0",
   "metadata": {},
   "outputs": [
    {
     "name": "stdout",
     "output_type": "stream",
     "text": [
      "('your', 'money') ('or', 'else', '!')\n"
     ]
    }
   ],
   "source": [
    "t = ('I','want','your','money',',','hand','it','over')\n",
    "x = ('or','else','!')\n",
    "print(t[2:4],x)"
   ]
  },
  {
   "cell_type": "code",
   "execution_count": 65,
   "id": "7f55b85a",
   "metadata": {},
   "outputs": [
    {
     "name": "stdout",
     "output_type": "stream",
     "text": [
      "('I', 'want', 'your', 'money', ',', 'hand', 'it', 'over', 'I', 'want', 'your', 'money', ',', 'hand', 'it', 'over') ('or', 'else', '!', 'or', 'else', '!')\n"
     ]
    }
   ],
   "source": [
    "t = ('I','want','your','money',',','hand','it','over')\n",
    "x = ('or','else','!')\n",
    "print(2*t,2*x)"
   ]
  },
  {
   "cell_type": "code",
   "execution_count": 66,
   "id": "1c27fd7b",
   "metadata": {},
   "outputs": [
    {
     "name": "stdout",
     "output_type": "stream",
     "text": [
      "('I', 'want', 'your', 'money', ',', 'hand', 'it', 'over')\n",
      "('I', 'want', 'your', 'money', ',', 'hand', 'it', 'over', 'or', 'else', '!', 'cuz', 'I', 'am', 'a', 'mugger!', 'I', 'want', 'your', 'money', ',', 'hand', 'it', 'over', 'or', 'else', '!', 'cuz', 'I', 'am', 'a', 'mugger!')\n"
     ]
    }
   ],
   "source": [
    "t = ('I','want','your','money',',','hand','it','over')\n",
    "x = ('or','else','!')\n",
    "y = ('cuz','I','am','a','mugger!')\n",
    "print(t+x[2:2])\n",
    "print(2*(t+x+y))"
   ]
  },
  {
   "cell_type": "code",
   "execution_count": 68,
   "id": "9ade481c",
   "metadata": {},
   "outputs": [
    {
     "name": "stdout",
     "output_type": "stream",
     "text": [
      "([1, 2, 3], [4, 5, 6])\n",
      "([1, 2, 3, 'a'], [4, 5, 6])\n"
     ]
    }
   ],
   "source": [
    "list1 = [1,2,3]\n",
    "list2 = [4,5,6]\n",
    "tt = (list1,list2)\n",
    "print(tt)\n",
    "list1.append('a')\n",
    "print(tt)"
   ]
  },
  {
   "cell_type": "code",
   "execution_count": 69,
   "id": "a42652f1",
   "metadata": {},
   "outputs": [
    {
     "name": "stdout",
     "output_type": "stream",
     "text": [
      "([1, 2, 3], [4, 5, 6])\n",
      "([1, 2, 3, 'a'], [4, 5, 6, 'loser'])\n"
     ]
    }
   ],
   "source": [
    "list1 = [1,2,3]\n",
    "list2 = [4,5,6]\n",
    "tt = (list1,list2)\n",
    "print(tt)\n",
    "list1.append('a')\n",
    "list2.append('loser')\n",
    "print(tt)"
   ]
  },
  {
   "cell_type": "code",
   "execution_count": 70,
   "id": "533e737d",
   "metadata": {},
   "outputs": [
    {
     "name": "stdout",
     "output_type": "stream",
     "text": [
      "([1, 2, 3], (4, 5, 6))\n",
      "([1, 2, 3, 'a'], (4, 5, 6))\n"
     ]
    }
   ],
   "source": [
    "list1 = [1,2,3]\n",
    "list2 = tuple([4,5,6])\n",
    "tt = (list1,list2)\n",
    "print(tt)\n",
    "list1.append('a')\n",
    "print(tt)"
   ]
  },
  {
   "cell_type": "code",
   "execution_count": 71,
   "id": "4773d209",
   "metadata": {},
   "outputs": [
    {
     "name": "stdout",
     "output_type": "stream",
     "text": [
      "([1, 2, 3, 'a'], (4, 5, 6))\n",
      "[4, 5, 6]\n"
     ]
    }
   ],
   "source": [
    "list1 = [1,2,3]\n",
    "list2 = [4,5,6]\n",
    "\n",
    "tlist2 = tuple(list2)\n",
    "\n",
    "tlist2 = list(list2)\n",
    "list1.append('a')\n",
    "list2.append('X')\n",
    "\n",
    "print(tt)\n",
    "print(tlist2)"
   ]
  },
  {
   "cell_type": "code",
   "execution_count": 72,
   "id": "349422e6",
   "metadata": {},
   "outputs": [],
   "source": [
    "def tsort(t):\n",
    "    t1 = list(t)     #variable of a list\n",
    "    t1.sort()        #\n",
    "    t1 = tuple(t1)\n",
    "    return(t1)\n",
    "    \n",
    "    "
   ]
  },
  {
   "cell_type": "code",
   "execution_count": 73,
   "id": "c46405aa",
   "metadata": {},
   "outputs": [
    {
     "data": {
      "text/plain": [
       "(4, 5, 11, 12)"
      ]
     },
     "execution_count": 73,
     "metadata": {},
     "output_type": "execute_result"
    }
   ],
   "source": [
    "ta = (5,4,12,11)\n",
    "tsort(ta) "
   ]
  },
  {
   "cell_type": "code",
   "execution_count": 74,
   "id": "c3fff6a2",
   "metadata": {},
   "outputs": [
    {
     "name": "stdout",
     "output_type": "stream",
     "text": [
      "I want your money , hand it over or else ! cuz I am a mugger!\n"
     ]
    }
   ],
   "source": [
    "t = ('I','want','your','money',',','hand','it','over')\n",
    "x = ('or','else','!')\n",
    "y = ('cuz','I','am','a','mugger!')\n",
    "t1,t2,t3,t4,t5,t6,t7,t8 = t\n",
    "x1,x2,x3 = x\n",
    "y1,y2,y3,y4,y5 = y\n",
    "print(t1,t2,t3,t4,t5,t6,t7,t8,x1,x2,x3,y1,y2,y3,y4,y5)"
   ]
  },
  {
   "cell_type": "code",
   "execution_count": 75,
   "id": "4f00e5a1",
   "metadata": {},
   "outputs": [],
   "source": [
    "a=1\n",
    "b=2\n",
    "c=3\n",
    "\n",
    "a,b,c = c,a,b"
   ]
  },
  {
   "cell_type": "code",
   "execution_count": 76,
   "id": "e91800a4",
   "metadata": {},
   "outputs": [
    {
     "name": "stdout",
     "output_type": "stream",
     "text": [
      "False\n",
      "True\n",
      "False\n"
     ]
    }
   ],
   "source": [
    "x=1,2,3\n",
    "y=3,2,1\n",
    "z=4,5,6\n",
    "\n",
    "print(x == y)\n",
    "print(x < y)\n",
    "print(x > y)"
   ]
  },
  {
   "cell_type": "code",
   "execution_count": 77,
   "id": "fd9ba17a",
   "metadata": {},
   "outputs": [
    {
     "name": "stdout",
     "output_type": "stream",
     "text": [
      "False\n"
     ]
    }
   ],
   "source": [
    "x=1,2,3\n",
    "y=3,2,1\n",
    "z=4,5,6\n",
    "\n",
    "x1,x2,x3 = x\n",
    "y1,y2,y3 = y\n",
    "z1,z2,z3 = z\n",
    "\n",
    "print(x1 == y1)"
   ]
  },
  {
   "cell_type": "code",
   "execution_count": 78,
   "id": "c6bd92e6",
   "metadata": {},
   "outputs": [
    {
     "name": "stdout",
     "output_type": "stream",
     "text": [
      "{1, 2, 3, 4, 5}\n"
     ]
    }
   ],
   "source": [
    "s1 = {1,2,3,4,5}\n",
    "print(s1)"
   ]
  },
  {
   "cell_type": "code",
   "execution_count": 79,
   "id": "7e869df5",
   "metadata": {},
   "outputs": [
    {
     "name": "stdout",
     "output_type": "stream",
     "text": [
      "1 2 3 4 5\n"
     ]
    }
   ],
   "source": [
    "s1 = {1,2,3,4,5}\n",
    "s2,s3,s4,s5,s6 = s1\n",
    "\n",
    "print(s2,s3,s4,s5,s6)"
   ]
  },
  {
   "cell_type": "code",
   "execution_count": 81,
   "id": "7349619a",
   "metadata": {},
   "outputs": [
    {
     "name": "stdout",
     "output_type": "stream",
     "text": [
      "(1, 2, 3, 4, 5, 1, 2, 3, 4, 5)\n"
     ]
    }
   ],
   "source": [
    "s1 = {1,2,3,4,5}\n",
    "s2,s3,s4,s5,s6 = s1\n",
    "\n",
    "print(2*(s2,s3,s4,s5,s6))"
   ]
  },
  {
   "cell_type": "code",
   "execution_count": 82,
   "id": "82774b98",
   "metadata": {},
   "outputs": [
    {
     "name": "stdout",
     "output_type": "stream",
     "text": [
      "set() {}\n"
     ]
    }
   ],
   "source": [
    "s1 = set()\n",
    "s2 = {}\n",
    "\n",
    "print(s1,s2)"
   ]
  },
  {
   "cell_type": "code",
   "execution_count": 83,
   "id": "1e973813",
   "metadata": {},
   "outputs": [
    {
     "name": "stdout",
     "output_type": "stream",
     "text": [
      "{1, 2, 3, 4, 5, 6, 7} {}\n"
     ]
    }
   ],
   "source": [
    "s1 = set([1,2,3,4,5,6,7])\n",
    "s2 = {}\n",
    "\n",
    "print(s1,s2)"
   ]
  },
  {
   "cell_type": "code",
   "execution_count": 85,
   "id": "b1a0c38d",
   "metadata": {},
   "outputs": [
    {
     "name": "stdout",
     "output_type": "stream",
     "text": [
      "{1, 2, 3, 4, 5, 6, 7, 8} {}\n"
     ]
    }
   ],
   "source": [
    "s1 = set([1,2,3,4,5,6,7])\n",
    "s2 = {}\n",
    "s1.add(8)\n",
    "\n",
    "print(s1,s2)"
   ]
  },
  {
   "cell_type": "code",
   "execution_count": 89,
   "id": "ec07cd2f",
   "metadata": {},
   "outputs": [
    {
     "name": "stdout",
     "output_type": "stream",
     "text": [
      "{1, 2, 3, 4, 5, 6, 7, 8, 9, 10, 11, 12, 13} {11, 12, 13}\n"
     ]
    }
   ],
   "source": [
    "s1 = set([1,2,3,4,5,6,7])\n",
    "s2 = {11,12,13}\n",
    "s1.update([8,9,10,11],s2)\n",
    "\n",
    "print(s1,s2)"
   ]
  },
  {
   "cell_type": "code",
   "execution_count": 95,
   "id": "48e68b61",
   "metadata": {},
   "outputs": [
    {
     "name": "stdout",
     "output_type": "stream",
     "text": [
      "{1, 2, 3, 4, 5, 6, 7, 8, 9, 10, 11} {8, 9, 7}\n"
     ]
    }
   ],
   "source": [
    "s1 = set([1,2,3,4,5,6,7])\n",
    "s2 = {7,8,9}\n",
    "s1.update([8,9,10,11],s2)\n",
    "\n",
    "print(s1,s2)"
   ]
  },
  {
   "cell_type": "code",
   "execution_count": 96,
   "id": "a9c264cd",
   "metadata": {},
   "outputs": [
    {
     "name": "stdout",
     "output_type": "stream",
     "text": [
      "{1, 2, 3, 4, 6, 7}\n"
     ]
    }
   ],
   "source": [
    "s1 = set([1,2,3,4,5,6,7])\n",
    "s1.remove(5)\n",
    "s1.discard(8)\n",
    "\n",
    "print(s1)"
   ]
  },
  {
   "cell_type": "code",
   "execution_count": 103,
   "id": "a25e32f4",
   "metadata": {},
   "outputs": [
    {
     "name": "stdout",
     "output_type": "stream",
     "text": [
      "{1, 2, 3, 4, 6, 7}\n"
     ]
    }
   ],
   "source": [
    "s1 = set([1,2,3,4,5,6,7])\n",
    "s1.remove(5)\n",
    "s1.discard(8)\n",
    "\n",
    "print(s1)"
   ]
  },
  {
   "cell_type": "code",
   "execution_count": 106,
   "id": "41436531",
   "metadata": {},
   "outputs": [
    {
     "name": "stdout",
     "output_type": "stream",
     "text": [
      "set()\n"
     ]
    }
   ],
   "source": [
    "s1 = {1,2,3,4,5,6}\n",
    "s2 = {6,7,8,9}\n",
    "s3 = {9,10,11,12}\n",
    "\n",
    "s4 = s1.intersection(s2,s3)\n",
    "\n",
    "print(s4)"
   ]
  },
  {
   "cell_type": "code",
   "execution_count": 108,
   "id": "794b5b3d",
   "metadata": {},
   "outputs": [
    {
     "name": "stdout",
     "output_type": "stream",
     "text": [
      "{1, 2, 3}\n"
     ]
    }
   ],
   "source": [
    "s1 = {1,2,3}\n",
    "s2 = {3,2,1}\n",
    "s3 = {2,3,1}\n",
    "\n",
    "s4 = s1.intersection(s2,s3,s1)\n",
    "\n",
    "print(s4)"
   ]
  },
  {
   "cell_type": "code",
   "execution_count": 114,
   "id": "68374d32",
   "metadata": {},
   "outputs": [
    {
     "name": "stdout",
     "output_type": "stream",
     "text": [
      "set()\n"
     ]
    }
   ],
   "source": [
    "s1 = {1,2,3,5}\n",
    "s2 = {3,2,1,6}\n",
    "s3 = {8,9,10,70}\n",
    "\n",
    "s4 = s1.difference(s2,s3,s1)\n",
    "\n",
    "print(s4)"
   ]
  },
  {
   "cell_type": "code",
   "execution_count": 117,
   "id": "e47d2414",
   "metadata": {},
   "outputs": [
    {
     "name": "stdout",
     "output_type": "stream",
     "text": [
      "set() set() set()\n"
     ]
    }
   ],
   "source": [
    "s1 = {1,2,3}\n",
    "s2 = {3,2,1}\n",
    "s3 = {3,4,5}\n",
    "\n",
    "s4 = s1.difference(s2)\n",
    "s5 = s2.difference(s1)\n",
    "s6 = s3.difference(s3)\n",
    "\n",
    "print(s4,s5,s6)"
   ]
  },
  {
   "cell_type": "code",
   "execution_count": 119,
   "id": "95dffdeb",
   "metadata": {},
   "outputs": [
    {
     "name": "stdout",
     "output_type": "stream",
     "text": [
      "set() set() {4, 5}\n"
     ]
    }
   ],
   "source": [
    "s1 = {1,2,3}\n",
    "s2 = {3,2,1}\n",
    "s3 = {3,4,5}\n",
    "\n",
    "s4 = s1.difference(s2)\n",
    "s5 = s2.difference(s1)\n",
    "s6 = s3.difference(s1,s2)\n",
    "\n",
    "print(s4,s5,s6)"
   ]
  },
  {
   "cell_type": "code",
   "execution_count": 127,
   "id": "03f47c1f",
   "metadata": {},
   "outputs": [
    {
     "name": "stdout",
     "output_type": "stream",
     "text": [
      "({1, 2, 3}, {4, 5, 6}, {8, 9, 7}, {1, 2, 3}, {4, 5, 6}, {8, 9, 7})\n"
     ]
    }
   ],
   "source": [
    "s1 = {1,2,3}\n",
    "s2 = {4,5,6}\n",
    "s3 = {7,8,9}\n",
    "\n",
    "s4 = s1.difference(s3)\n",
    "s5 = s2.difference(s1)\n",
    "s6 = s3.difference(s2)\n",
    "\n",
    "print(2*(s4,s5,s6))"
   ]
  },
  {
   "cell_type": "code",
   "execution_count": 133,
   "id": "cffb9022",
   "metadata": {},
   "outputs": [
    {
     "name": "stdout",
     "output_type": "stream",
     "text": [
      "{1, 2, 4, 5} {1, 2, 4, 5} {1, 2, 4, 5}\n"
     ]
    }
   ],
   "source": [
    "s1 = {1,2,3}\n",
    "s2 = {3,2,1}\n",
    "s3 = {3,4,5}\n",
    "\n",
    "s4 = s1.symmetric_difference(s3)\n",
    "s5 = s2.symmetric_difference(s3)\n",
    "s6 = s3.symmetric_difference(s1)\n",
    "\n",
    "print(s4,s5,s6)"
   ]
  },
  {
   "cell_type": "code",
   "execution_count": 136,
   "id": "c57b6ee0",
   "metadata": {},
   "outputs": [
    {
     "name": "stdout",
     "output_type": "stream",
     "text": [
      "[1, 2, 3]\n"
     ]
    }
   ],
   "source": [
    "l1 = [1,2,3,1,2,3]\n",
    "\n",
    "l2 = list(set(l1))\n",
    "\n",
    "print(l2)"
   ]
  },
  {
   "cell_type": "code",
   "execution_count": 138,
   "id": "1efd97a5",
   "metadata": {},
   "outputs": [
    {
     "name": "stdout",
     "output_type": "stream",
     "text": [
      "{'zippy'}\n"
     ]
    }
   ],
   "source": [
    "s1 = {'tina','homer','zippy'}\n",
    "s2 = {'zippy','kevin','blair'}\n",
    "s3 = {'kevin','zippy','henry'}\n",
    "\n",
    "result = set(s1).intersection(s3)\n",
    "print(result)"
   ]
  },
  {
   "cell_type": "code",
   "execution_count": 139,
   "id": "f4eb20ef",
   "metadata": {},
   "outputs": [
    {
     "name": "stdout",
     "output_type": "stream",
     "text": [
      "{'tina', 'homer'}\n"
     ]
    }
   ],
   "source": [
    "s1 = {'tina','homer','zippy'}\n",
    "s2 = {'zippy','kevin','blair'}\n",
    "s3 = {'kevin','zippy','henry'}\n",
    "\n",
    "result = set(s1).difference(s3,s2)\n",
    "print(result)"
   ]
  },
  {
   "cell_type": "code",
   "execution_count": 145,
   "id": "c259c1c9",
   "metadata": {},
   "outputs": [
    {
     "name": "stdout",
     "output_type": "stream",
     "text": [
      "{'tina'} set()\n"
     ]
    }
   ],
   "source": [
    "homies = ['tina','homer','zippy']\n",
    "creepers = ['zippy','kevin','blair']\n",
    "sneaky = ['kevin','zippy','henry']\n",
    "thieves = {'henry','homer','kevin'}\n",
    "\n",
    "result = set(homies).difference(sneaky,creepers,thieves)\n",
    "result2 = set(creepers).intersection(sneaky,thieves,homies)\n",
    "print(result,result2)"
   ]
  },
  {
   "cell_type": "code",
   "execution_count": 150,
   "id": "cb70e531",
   "metadata": {},
   "outputs": [
    {
     "name": "stdout",
     "output_type": "stream",
     "text": [
      "{'tina'} {'kevin'}\n"
     ]
    }
   ],
   "source": [
    "homies = ['tina','homer','zippy']\n",
    "creepers = ['zippy','kevin','blair']\n",
    "sneaky = ['kevin','zippy','henry']\n",
    "thieves = {'henry','homer','kevin'}\n",
    "\n",
    "result = set(homies).difference(sneaky,creepers,thieves)\n",
    "result2 = thieves.intersection(sneaky,creepers)\n",
    "print(result,result2)"
   ]
  },
  {
   "cell_type": "code",
   "execution_count": 153,
   "id": "76d757ed",
   "metadata": {},
   "outputs": [
    {
     "name": "stdout",
     "output_type": "stream",
     "text": [
      "tina is HERE!\n"
     ]
    }
   ],
   "source": [
    "homies = ['tina','homer','zippy']\n",
    "creepers = ['zippy','kevin','blair']\n",
    "sneaky = ['kevin','zippy','henry']\n",
    "thieves = {'henry','homer','kevin'}\n",
    "\n",
    "if 'tina' in homies:\n",
    "    print('tina is HERE!')"
   ]
  },
  {
   "cell_type": "code",
   "execution_count": null,
   "id": "d436684f",
   "metadata": {},
   "outputs": [],
   "source": []
  }
 ],
 "metadata": {
  "kernelspec": {
   "display_name": "Python 3 (ipykernel)",
   "language": "python",
   "name": "python3"
  },
  "language_info": {
   "codemirror_mode": {
    "name": "ipython",
    "version": 3
   },
   "file_extension": ".py",
   "mimetype": "text/x-python",
   "name": "python",
   "nbconvert_exporter": "python",
   "pygments_lexer": "ipython3",
   "version": "3.10.6"
  }
 },
 "nbformat": 4,
 "nbformat_minor": 5
}
