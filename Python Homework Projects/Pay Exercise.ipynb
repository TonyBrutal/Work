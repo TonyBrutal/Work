{
 "cells": [
  {
   "cell_type": "code",
   "execution_count": null,
   "id": "a68ec43c",
   "metadata": {},
   "outputs": [],
   "source": [
    "hours = float(input('hours'))\n",
    "rate = float(input('rate'))\n",
    "\n",
    "if hours <= 40:\n",
    "    total_Pay = hours * rate\n",
    "    print(total_Pay)\n",
    "else:\n",
    "    ot_Pay = ((hours - 40) * (1.5 * rate))\n",
    "    base = 40 * rate\n",
    "    total_Pay = base + ot_Pay\n",
    "    print(total_Pay)"
   ]
  },
  {
   "cell_type": "code",
   "execution_count": null,
   "id": "366ec4df",
   "metadata": {},
   "outputs": [],
   "source": [
    "def computepay(h, r):\n",
    "    if h > 40:\n",
    "        ##p = 1.5 * r * (h - 40) + (40 * r)\n",
    "        ##p =  (r * 40) + ((r * 1.5) * 1.5)\n",
    "        p = ((h-40)*r*1.5)+r*40\n",
    "    else:\n",
    "        p = hours * rate\n",
    "    return p\n",
    "        \n",
    "hrs = input('How many hours? ')\n",
    "h = float(hrs)\n",
    "rate = input('rate of pay? ')\n",
    "r = float(rate)\n",
    "p = computepay(h,r)\n",
    "print(\"pay\" ,p)"
   ]
  },
  {
   "cell_type": "code",
   "execution_count": null,
   "id": "431497d0",
   "metadata": {},
   "outputs": [],
   "source": [
    "def computepay():\n",
    "    hrs = input('How many hours? ')\n",
    "    h = float(hrs)\n",
    "    rate = input('rate of pay? ')\n",
    "    r = float(rate)\n",
    "\n",
    "\n",
    "    if h > 40:\n",
    "        p = (r * 40) + ((r * 1.5) * (h - 40))\n",
    "        print(p)\n",
    "    else:\n",
    "        p = hours * rate\n",
    "        print(p)"
   ]
  },
  {
   "cell_type": "code",
   "execution_count": null,
   "id": "760a4e34",
   "metadata": {},
   "outputs": [],
   "source": [
    "def computepay():\n",
    "    h = input('How many hours? ')\n",
    "    r = input('rate of pay? ')\n",
    "\n",
    "    try:\n",
    "        if float(h) > 40:\n",
    "            p = (float(r) * 40) + ((float(r) * 1.5) * (float(h) - 40))\n",
    "            print(p)\n",
    "        else:\n",
    "            p = float(h) * float(r)\n",
    "            print(p)\n",
    "    except:\n",
    "        print(\"Woah buddy!\")"
   ]
  },
  {
   "cell_type": "code",
   "execution_count": null,
   "id": "361e4132",
   "metadata": {},
   "outputs": [],
   "source": [
    "def computepay():\n",
    "    h = input('How many hours? ')\n",
    "    r = input('rate of pay? ')\n",
    "\n",
    "    try:\n",
    "        fh = float(h)\n",
    "        fr = float(r)\n",
    "        \n",
    "        if fh > 40:\n",
    "            p = (fr * 40) + ((fr * 1.5) * (fh - 40))\n",
    "            print(p)\n",
    "        else:\n",
    "            p = fh * fr\n",
    "            print(p)\n",
    "    except:\n",
    "        print(\"Woah buddy!\")"
   ]
  },
  {
   "cell_type": "code",
   "execution_count": null,
   "id": "868cecc8",
   "metadata": {},
   "outputs": [],
   "source": [
    "def computepay():\n",
    "    h = input('How many hours? ')\n",
    "    r = input('rate of pay? ')\n",
    "\n",
    "    try:\n",
    "        fh = float(h)\n",
    "        fr = float(r)\n",
    "        \n",
    "    except:\n",
    "        print(\"Woah buddy!\")\n",
    "        return computepay()\n",
    "        \n",
    "    if fh > 40:\n",
    "        p = (fr * 40) + ((fr * 1.5) * (fh - 40))\n",
    "        print(p)\n",
    "    else:\n",
    "        p = fh * fr\n",
    "        print(p)"
   ]
  },
  {
   "cell_type": "code",
   "execution_count": null,
   "id": "c3826cd8",
   "metadata": {},
   "outputs": [],
   "source": [
    "##snippet from the internet\n",
    "import os, platform\n",
    "\n",
    "def clear():\n",
    "   if platform.system() == 'Windows':\n",
    "      os.system('cls')\n",
    "   else:\n",
    "      os.system('clear')"
   ]
  },
  {
   "cell_type": "code",
   "execution_count": null,
   "id": "9319395e",
   "metadata": {},
   "outputs": [],
   "source": [
    "def computepay():\n",
    "    h = input('How many hours? ')\n",
    "    r = input('rate of pay? ')\n",
    "\n",
    "    try:\n",
    "        fh = float(h)\n",
    "        fr = float(r)\n",
    "        \n",
    "    except:\n",
    "        print(\"Woah buddy!\")\n",
    "        return computepay()\n",
    "        \n",
    "    if fh > 40:\n",
    "        p = (fr * 40) + ((fr * 1.5) * (fh - 40))\n",
    "        print(p)\n",
    "    else:\n",
    "        p = fh * fr\n",
    "        print(p)"
   ]
  },
  {
   "cell_type": "code",
   "execution_count": null,
   "id": "22c339d5",
   "metadata": {},
   "outputs": [],
   "source": []
  }
 ],
 "metadata": {
  "kernelspec": {
   "display_name": "Python 3 (ipykernel)",
   "language": "python",
   "name": "python3"
  },
  "language_info": {
   "codemirror_mode": {
    "name": "ipython",
    "version": 3
   },
   "file_extension": ".py",
   "mimetype": "text/x-python",
   "name": "python",
   "nbconvert_exporter": "python",
   "pygments_lexer": "ipython3",
   "version": "3.10.6"
  }
 },
 "nbformat": 4,
 "nbformat_minor": 5
}
