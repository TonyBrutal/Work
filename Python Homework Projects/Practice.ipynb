{
 "cells": [
  {
   "cell_type": "code",
   "execution_count": null,
   "id": "c4e25018",
   "metadata": {},
   "outputs": [],
   "source": [
    "print(4**2 / 2)"
   ]
  },
  {
   "cell_type": "code",
   "execution_count": null,
   "id": "4dd4905c",
   "metadata": {},
   "outputs": [],
   "source": [
    "print(5/2)"
   ]
  },
  {
   "cell_type": "code",
   "execution_count": null,
   "id": "6e82ec88",
   "metadata": {},
   "outputs": [],
   "source": [
    "2 / 3 / 5"
   ]
  },
  {
   "cell_type": "code",
   "execution_count": null,
   "id": "f134470c",
   "metadata": {},
   "outputs": [],
   "source": [
    "-2**2"
   ]
  },
  {
   "cell_type": "code",
   "execution_count": null,
   "id": "31497749",
   "metadata": {},
   "outputs": [],
   "source": [
    "2**3**5"
   ]
  },
  {
   "cell_type": "code",
   "execution_count": null,
   "id": "fac92896",
   "metadata": {},
   "outputs": [],
   "source": [
    "(2**3)**5"
   ]
  },
  {
   "cell_type": "code",
   "execution_count": null,
   "id": "6942d2da",
   "metadata": {},
   "outputs": [],
   "source": [
    "2**(3**5)"
   ]
  },
  {
   "cell_type": "code",
   "execution_count": null,
   "id": "574ff8d1",
   "metadata": {},
   "outputs": [],
   "source": [
    "def merry_Christmas():\n",
    "    print(\"A\" +' '+ 2 * \"Merry \" +''+ 'Woopty' +' '+ 'Christmas')\n",
    "    return"
   ]
  },
  {
   "cell_type": "code",
   "execution_count": null,
   "id": "c48ca42a",
   "metadata": {},
   "outputs": [],
   "source": [
    "merry_Christmas()"
   ]
  },
  {
   "cell_type": "code",
   "execution_count": null,
   "id": "9dd69f23",
   "metadata": {},
   "outputs": [],
   "source": [
    "print(12%2)"
   ]
  },
  {
   "cell_type": "code",
   "execution_count": null,
   "id": "972f8058",
   "metadata": {},
   "outputs": [],
   "source": [
    "12 % 2 == 0"
   ]
  },
  {
   "cell_type": "code",
   "execution_count": null,
   "id": "ad06538a",
   "metadata": {},
   "outputs": [],
   "source": [
    "0 == 12 % 2"
   ]
  },
  {
   "cell_type": "code",
   "execution_count": null,
   "id": "388a0834",
   "metadata": {},
   "outputs": [],
   "source": [
    "3 > 4 "
   ]
  },
  {
   "cell_type": "code",
   "execution_count": null,
   "id": "37176adc",
   "metadata": {},
   "outputs": [],
   "source": [
    "not (3 < 4 or not (3 > 4))"
   ]
  },
  {
   "cell_type": "code",
   "execution_count": null,
   "id": "d3ad9681",
   "metadata": {},
   "outputs": [],
   "source": [
    "cond1 = True\n",
    "cond2 = True\n",
    "\n",
    "if cond1:\n",
    "    \n",
    "    print(\"Point A\")\n",
    "    \n",
    "    if cond2:\n",
    "        \n",
    "        print(\"Point B\")\n",
    "    \n",
    "    print(\"Point C\")\n",
    "    \n",
    "print(\"Point D\")"
   ]
  },
  {
   "cell_type": "code",
   "execution_count": 7,
   "id": "06724242",
   "metadata": {},
   "outputs": [
    {
     "name": "stdout",
     "output_type": "stream",
     "text": [
      "Point A\n",
      "Point B\n",
      "Point C\n",
      "Point D\n"
     ]
    }
   ],
   "source": [
    "cond1 = True\n",
    "cond2 = True\n",
    "\n",
    "if cond1:\n",
    "    \n",
    "    print(\"Point A\")\n",
    "    \n",
    "    if cond2:\n",
    "        \n",
    "        print(\"Point B\")\n",
    "        \n",
    "    print(\"Point C\")\n",
    "    \n",
    "print(\"Point D\")"
   ]
  },
  {
   "cell_type": "code",
   "execution_count": null,
   "id": "d9182caf",
   "metadata": {},
   "outputs": [],
   "source": []
  }
 ],
 "metadata": {
  "kernelspec": {
   "display_name": "Python 3 (ipykernel)",
   "language": "python",
   "name": "python3"
  },
  "language_info": {
   "codemirror_mode": {
    "name": "ipython",
    "version": 3
   },
   "file_extension": ".py",
   "mimetype": "text/x-python",
   "name": "python",
   "nbconvert_exporter": "python",
   "pygments_lexer": "ipython3",
   "version": "3.10.6"
  }
 },
 "nbformat": 4,
 "nbformat_minor": 5
}
