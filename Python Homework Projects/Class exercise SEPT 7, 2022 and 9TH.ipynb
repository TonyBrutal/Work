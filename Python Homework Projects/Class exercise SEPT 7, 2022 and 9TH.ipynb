{
 "cells": [
  {
   "cell_type": "code",
   "execution_count": null,
   "id": "09f5a3f4",
   "metadata": {},
   "outputs": [],
   "source": [
    "cond1 = False \n",
    "\n",
    "if cond1:\n",
    "    print(\"Point A\")\n",
    "elif cond1 == False:\n",
    "    print(\"Point B\")\n",
    "    \n",
    "else:\n",
    "    print(\"Point C\")"
   ]
  },
  {
   "cell_type": "code",
   "execution_count": null,
   "id": "b5215c58",
   "metadata": {},
   "outputs": [],
   "source": [
    "def cond():\n",
    "    cond1 = True\n",
    "    cond2 = True\n",
    "    cond3 = True\n",
    "\n",
    "    if cond1:\n",
    "        print(\"Point A\")\n",
    "    elif cond2:\n",
    "        print(\"Point B\")\n",
    "    elif cond3:\n",
    "        print(\"Point C\")\n",
    "    else:\n",
    "        print(\"Point D\")\n",
    "    \n",
    "    print(\"Point E\")"
   ]
  },
  {
   "cell_type": "code",
   "execution_count": null,
   "id": "19dcdd07",
   "metadata": {},
   "outputs": [],
   "source": [
    "cond()"
   ]
  },
  {
   "cell_type": "code",
   "execution_count": null,
   "id": "287f3636",
   "metadata": {},
   "outputs": [],
   "source": [
    "def cond():\n",
    "    cond1 = True\n",
    "    cond2 = True\n",
    "    cond3 = True\n",
    "\n",
    "    if cond1:\n",
    "        print(\"Point A\")\n",
    "    if cond2:\n",
    "        print(\"Point B\")\n",
    "    elif cond3:\n",
    "        print(\"Point C\")\n",
    "    else:\n",
    "        print(\"Point D\")\n",
    "    \n",
    "    print(\"Point E\")"
   ]
  },
  {
   "cell_type": "code",
   "execution_count": null,
   "id": "5a99c5a9",
   "metadata": {},
   "outputs": [],
   "source": [
    "cond()"
   ]
  },
  {
   "cell_type": "code",
   "execution_count": null,
   "id": "302f2a87",
   "metadata": {},
   "outputs": [],
   "source": [
    "the_input = 3\n",
    "try:\n",
    "    int_input = int(the_input)\n",
    "    print(\"Everything is OK\")\n",
    "except:\n",
    "    print(\"Bad Input\")"
   ]
  },
  {
   "cell_type": "code",
   "execution_count": null,
   "id": "15c2ba69",
   "metadata": {},
   "outputs": [],
   "source": [
    "%%bash\n",
    "jupyter nbconvert 'Conditional Execution.ipynb' --to slide"
   ]
  },
  {
   "cell_type": "code",
   "execution_count": null,
   "id": "52c2c956",
   "metadata": {},
   "outputs": [],
   "source": [
    "the_input = 3\n",
    "try:\n",
    "    int_input = int(the_input)\n",
    "    print(\"Everything is OK\")\n",
    "except:\n",
    "    print(\"Bad Input\")"
   ]
  },
  {
   "cell_type": "code",
   "execution_count": null,
   "id": "df9d155b",
   "metadata": {},
   "outputs": [],
   "source": [
    "import math\n",
    "math.sqrt(2)"
   ]
  },
  {
   "cell_type": "code",
   "execution_count": null,
   "id": "55b3da95",
   "metadata": {},
   "outputs": [],
   "source": [
    "def print_lyrics():\n",
    "    print(\"I'm a lumberjack, and I'm okay.\")\n",
    "    print('I sleep all night and I work all day.')"
   ]
  },
  {
   "cell_type": "code",
   "execution_count": null,
   "id": "94669acd",
   "metadata": {},
   "outputs": [],
   "source": [
    "print_lyrics()\n",
    "print_lyrics()"
   ]
  },
  {
   "cell_type": "code",
   "execution_count": null,
   "id": "734cfc57",
   "metadata": {},
   "outputs": [],
   "source": [
    "import math\n",
    "\n",
    "def circle_area(r):\n",
    "    area = math.pi * r**2\n",
    "    return area"
   ]
  },
  {
   "cell_type": "code",
   "execution_count": null,
   "id": "24b2dc17",
   "metadata": {},
   "outputs": [],
   "source": [
    "circle_area(2)"
   ]
  },
  {
   "cell_type": "code",
   "execution_count": null,
   "id": "9a98661e",
   "metadata": {},
   "outputs": [],
   "source": [
    "def quad(a,b,c,x):\n",
    "    v = ((a*x**2)+(b*x)+(c))\n",
    "    return v\n",
    "\n",
    "##quad(1,-7,12,1)\n",
    "##quad(1,-7,12,2)\n",
    "##quad(1,-7,12,3)\n",
    "##quad(1,-7,12,4)\n",
    "##quad(1,-7,12,5)"
   ]
  },
  {
   "cell_type": "code",
   "execution_count": null,
   "id": "2d925d1b",
   "metadata": {},
   "outputs": [],
   "source": [
    "def quad(a,b,c,x):\n",
    "    v = ((a*x**2)+(b*x)+(c))\n",
    "    print(\"Value =\",v,\", a =\",a,\", b =\",b,\", x =\",x)\n",
    "  ##return v can include here but not necessary"
   ]
  },
  {
   "cell_type": "code",
   "execution_count": null,
   "id": "ca2b9fe1",
   "metadata": {},
   "outputs": [],
   "source": [
    "quad(1,-7,12,1)"
   ]
  },
  {
   "cell_type": "code",
   "execution_count": null,
   "id": "59a9d61d",
   "metadata": {},
   "outputs": [],
   "source": [
    "def divisible(m,n):\n",
    "    if m%n==0:\n",
    "        return True\n",
    "    else:\n",
    "        return False"
   ]
  },
  {
   "cell_type": "code",
   "execution_count": null,
   "id": "2f1cdf18",
   "metadata": {},
   "outputs": [],
   "source": [
    "def div(m,n):\n",
    "    return True if m%n == 0 else False"
   ]
  },
  {
   "cell_type": "code",
   "execution_count": null,
   "id": "6c993835",
   "metadata": {},
   "outputs": [],
   "source": [
    "div(4,2)"
   ]
  },
  {
   "cell_type": "code",
   "execution_count": null,
   "id": "80c153c0",
   "metadata": {},
   "outputs": [],
   "source": [
    "def fb(n):\n",
    "    if n%3 == 0 and n%5 != 0:\n",
    "        return \"Fizz\"\n",
    "    elif n%5 == 0 and n%3 != 0: \n",
    "        return \"buzz\"\n",
    "    elif n%3 == True and n%5 == True:\n",
    "        return \"Fizzbuzz\"\n",
    "    else:\n",
    "        print(\"Shucks\")"
   ]
  },
  {
   "cell_type": "code",
   "execution_count": null,
   "id": "3bae19ab",
   "metadata": {},
   "outputs": [],
   "source": [
    "fb(3)"
   ]
  },
  {
   "cell_type": "code",
   "execution_count": null,
   "id": "3f381cc7",
   "metadata": {},
   "outputs": [],
   "source": [
    "def fb(n):\n",
    "    if n%3 == True and n%5 == True:\n",
    "        return \"Fizzbuzz\"\n",
    "    elif n%3 == True and n%5 == False:\n",
    "        return \"Fizz\"\n",
    "    elif n%5 == True and n%3 == False:\n",
    "        return \"Buzz\"\n",
    "    else:\n",
    "        print(\"Shucks\")"
   ]
  },
  {
   "cell_type": "code",
   "execution_count": null,
   "id": "96b5fbba",
   "metadata": {},
   "outputs": [],
   "source": [
    "fb(3)"
   ]
  },
  {
   "cell_type": "code",
   "execution_count": null,
   "id": "08fea0e1",
   "metadata": {},
   "outputs": [],
   "source": [
    "def div(m,n):\n",
    "    return True if m%n == 0 else False"
   ]
  },
  {
   "cell_type": "code",
   "execution_count": null,
   "id": "e6f4cc6e",
   "metadata": {},
   "outputs": [],
   "source": [
    "def fb(n):\n",
    "    if div(n,3) and div(n,5):\n",
    "        return \"Fizzbuzz\"\n",
    "    elif div(n,3):\n",
    "        return(\"fizz\")\n",
    "    elif div(n,5):\n",
    "        return(\"buzz\")\n",
    "    else:\n",
    "        print(\"Shucks\")\n",
    "        \n",
    "##print(fb(6))\n",
    "##print(fb(7))\n",
    "##print(fb(10))\n",
    "##print(fb(15))"
   ]
  },
  {
   "cell_type": "code",
   "execution_count": null,
   "id": "1b8dd38a",
   "metadata": {},
   "outputs": [],
   "source": [
    "def fb(n):\n",
    "    var = \"\"\n",
    "    if n%3 == 0:\n",
    "        var=var+\"Fizz\"\n",
    "    if n%5 == 0:\n",
    "        var=var+\"Buzz\"\n",
    "    if var==\"\":\n",
    "        var=\"Shucks\"\n",
    "    return(var)"
   ]
  },
  {
   "cell_type": "code",
   "execution_count": null,
   "id": "8398f888",
   "metadata": {},
   "outputs": [],
   "source": [
    "fb(10)"
   ]
  },
  {
   "cell_type": "code",
   "execution_count": null,
   "id": "4138667d",
   "metadata": {},
   "outputs": [],
   "source": [
    "def divisible(m,n):\n",
    "    return m%n==0"
   ]
  },
  {
   "cell_type": "code",
   "execution_count": null,
   "id": "f27afa2f",
   "metadata": {},
   "outputs": [],
   "source": [
    "def fb(n):\n",
    "    var = \"\"\n",
    "    if n%3 == 0:\n",
    "        var=var+\"Fizz\"\n",
    "    if n%5 == 0:\n",
    "        var=var+\"Buzz\"\n",
    "    if var==\"\":\n",
    "        var=\"Shucks\"\n",
    "    return(var)"
   ]
  },
  {
   "cell_type": "code",
   "execution_count": null,
   "id": "0973cb12",
   "metadata": {},
   "outputs": [],
   "source": [
    "fb(5)"
   ]
  },
  {
   "cell_type": "code",
   "execution_count": null,
   "id": "fde800e2",
   "metadata": {},
   "outputs": [],
   "source": [
    "def divisible(m,n):\n",
    "    return m%n==0"
   ]
  },
  {
   "cell_type": "code",
   "execution_count": null,
   "id": "c49284ca",
   "metadata": {},
   "outputs": [],
   "source": [
    "def fb(n):\n",
    "    var = \"\"\n",
    "    if divisible(n,3):\n",
    "        var=var+\"Fizz\"\n",
    "    if divisible(n,5):\n",
    "        var=var+\"Buzz\"\n",
    "    if var==\"\":\n",
    "        var=\"Shucks\"\n",
    "    return(var)"
   ]
  },
  {
   "cell_type": "code",
   "execution_count": null,
   "id": "439b533b",
   "metadata": {},
   "outputs": [],
   "source": [
    "fb(3)"
   ]
  },
  {
   "cell_type": "code",
   "execution_count": null,
   "id": "e5649215",
   "metadata": {},
   "outputs": [],
   "source": [
    "def sleep_in(weekday,vacation):\n",
    "    if weekday ==True and vacation == True:\n",
    "        return(True)\n",
    "    elif weekday ==True and vacation == False:\n",
    "        return(False)\n",
    "    elif weekday ==False and vacation == True:\n",
    "        return(True)\n",
    "    else:\n",
    "        return(True)"
   ]
  },
  {
   "cell_type": "code",
   "execution_count": null,
   "id": "c986bf60",
   "metadata": {},
   "outputs": [],
   "source": [
    "sleep_in(False,False)"
   ]
  },
  {
   "cell_type": "code",
   "execution_count": null,
   "id": "506585b4",
   "metadata": {},
   "outputs": [],
   "source": [
    "sleep_in(True,True)"
   ]
  },
  {
   "cell_type": "code",
   "execution_count": null,
   "id": "df7d9698",
   "metadata": {},
   "outputs": [],
   "source": [
    "sleep_in(False,True)"
   ]
  },
  {
   "cell_type": "code",
   "execution_count": null,
   "id": "08f2e474",
   "metadata": {},
   "outputs": [],
   "source": [
    "sleep_in(True,False)"
   ]
  },
  {
   "cell_type": "code",
   "execution_count": null,
   "id": "047f13c9",
   "metadata": {},
   "outputs": [],
   "source": [
    "def sleep_in(weekday,vacation):return(not weekday or vacation)"
   ]
  },
  {
   "cell_type": "code",
   "execution_count": null,
   "id": "cf97faa5",
   "metadata": {},
   "outputs": [],
   "source": [
    "sleep_in(True,True)"
   ]
  },
  {
   "cell_type": "code",
   "execution_count": null,
   "id": "2d4117b4",
   "metadata": {},
   "outputs": [],
   "source": [
    "def monkey_trouble(a_smile,b_smile):\n",
    "    if not a_smile or b_smile:\n",
    "        return(True)\n",
    "    elif a_smile or b_smile:\n",
    "        return(False)\n",
    "    elif a_smile and b_smile:\n",
    "        (True)\n",
    "    else:\n",
    "        return(False)"
   ]
  },
  {
   "cell_type": "code",
   "execution_count": null,
   "id": "9b8bb071",
   "metadata": {},
   "outputs": [],
   "source": [
    "monkey_trouble(True,True)"
   ]
  },
  {
   "cell_type": "code",
   "execution_count": null,
   "id": "d7f7bffb",
   "metadata": {},
   "outputs": [],
   "source": [
    "monkey_trouble(True,False)"
   ]
  },
  {
   "cell_type": "code",
   "execution_count": null,
   "id": "04db6a34",
   "metadata": {},
   "outputs": [],
   "source": [
    "monkey_trouble(False,True)"
   ]
  },
  {
   "cell_type": "code",
   "execution_count": null,
   "id": "f7eab702",
   "metadata": {},
   "outputs": [],
   "source": [
    "monkey_trouble(False,False)"
   ]
  },
  {
   "cell_type": "code",
   "execution_count": null,
   "id": "50363274",
   "metadata": {},
   "outputs": [],
   "source": [
    "def monkey_trouble(a_smile,b_smile):\n",
    "    return(a_smile and b_smile) or (not a_smile and not b_smile)"
   ]
  },
  {
   "cell_type": "code",
   "execution_count": null,
   "id": "7f004bd2",
   "metadata": {},
   "outputs": [],
   "source": [
    "monkey_trouble(True,True)"
   ]
  },
  {
   "cell_type": "code",
   "execution_count": null,
   "id": "b02dcefa",
   "metadata": {},
   "outputs": [],
   "source": [
    "monkey_trouble(False,True)"
   ]
  },
  {
   "cell_type": "code",
   "execution_count": null,
   "id": "35f446ec",
   "metadata": {},
   "outputs": [],
   "source": [
    "monkey_trouble(True,False)"
   ]
  },
  {
   "cell_type": "code",
   "execution_count": null,
   "id": "38d1e9f3",
   "metadata": {},
   "outputs": [],
   "source": [
    "monkey_trouble(False,False)"
   ]
  },
  {
   "cell_type": "code",
   "execution_count": null,
   "id": "769ca4c6",
   "metadata": {},
   "outputs": [],
   "source": []
  }
 ],
 "metadata": {
  "kernelspec": {
   "display_name": "Python 3 (ipykernel)",
   "language": "python",
   "name": "python3"
  },
  "language_info": {
   "codemirror_mode": {
    "name": "ipython",
    "version": 3
   },
   "file_extension": ".py",
   "mimetype": "text/x-python",
   "name": "python",
   "nbconvert_exporter": "python",
   "pygments_lexer": "ipython3",
   "version": "3.10.6"
  }
 },
 "nbformat": 4,
 "nbformat_minor": 5
}
