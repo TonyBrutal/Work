{
 "cells": [
  {
   "cell_type": "code",
   "execution_count": null,
   "id": "d44d72dd",
   "metadata": {},
   "outputs": [],
   "source": [
    "grade = float(input('Enter grade\\n'))\n",
    "\n",
    "if grade >= 1:\n",
    "    print(\"Error, please enter a valid grade\")\n",
    "elif grade <= 0.01:\n",
    "    print(\"Error, please enter a valid grade\")\n",
    "elif grade >= 0.9:\n",
    "    print(\"A Student\")\n",
    "elif grade >= 0.8:\n",
    "    print(\"B Student\")\n",
    "elif grade >= 0.7:\n",
    "    print(\"C Student\")\n",
    "elif grade >= 0.6:\n",
    "    print(\"D Student\")\n",
    "elif grade < 0.6:\n",
    "    print(\"F Student\")\n",
    "\n"
   ]
  },
  {
   "cell_type": "code",
   "execution_count": null,
   "id": "ab6db419",
   "metadata": {},
   "outputs": [],
   "source": [
    "grade = input()\n",
    "\n",
    "if grade == 'A':\n",
    "    print('Grade is 0.9')\n",
    "elif grade == 'B':\n",
    "    print('Grade is 0.8')\n",
    "elif grade == 'C':\n",
    "    print('Grade is 0.7')\n",
    "elif grade == 'D':\n",
    "    print('Grade is 0.6')\n",
    "elif grade == 'F':\n",
    "    print('You have a failing grade.')\n",
    "\n",
    "else:\n",
    "    print(\"Woah, please enter a valid score\")"
   ]
  },
  {
   "cell_type": "code",
   "execution_count": null,
   "id": "b8e5cbb0",
   "metadata": {},
   "outputs": [],
   "source": [
    "def computegrade():\n",
    "    \n",
    "    grade = input('Enter grade\\n')\n",
    "\n",
    "    try:\n",
    "        if float(grade) >= 1:\n",
    "            print(\"Error, please enter a valid grade\")\n",
    "        elif float(grade) <= 0.01:\n",
    "            print(\"Error, please enter a valid grade\")\n",
    "        elif float(grade) >= 0.9:\n",
    "            print(\"A Student\")\n",
    "        elif float(grade) >= 0.8:\n",
    "            print(\"B Student\")\n",
    "        elif float(grade) >= 0.7:\n",
    "            print(\"C Student\")\n",
    "        elif float(grade) >= 0.6:\n",
    "            print(\"D Student\")\n",
    "        elif float(grade) < 0.6:\n",
    "            print(\"F Student\")\n",
    "\n",
    "    except:\n",
    "        print(\"Please enter a valid grade.\")"
   ]
  },
  {
   "cell_type": "code",
   "execution_count": null,
   "id": "90906f50",
   "metadata": {},
   "outputs": [],
   "source": [
    "def computegrade():\n",
    "    \n",
    "    grade = input('Enter grade\\n')\n",
    "\n",
    "    try:\n",
    "        if float(grade) >= 1:\n",
    "            print(\"Error, please enter a valid grade\")\n",
    "        elif float(grade) <= 0.01:\n",
    "            print(\"Error, please enter a valid grade\")\n",
    "        elif float(grade) >= 0.9:\n",
    "            print(\"A Student\")\n",
    "        elif float(grade) >= 0.8:\n",
    "            print(\"B Student\")\n",
    "        elif float(grade) >= 0.7:\n",
    "            print(\"C Student\")\n",
    "        elif float(grade) >= 0.6:\n",
    "            print(\"D Student\")\n",
    "        elif float(grade) < 0.6:\n",
    "            print(\"F Student\")\n",
    "\n",
    "    except:\n",
    "        print(\"Please enter a valid grade.\")"
   ]
  },
  {
   "cell_type": "code",
   "execution_count": null,
   "id": "a04f8e50",
   "metadata": {},
   "outputs": [],
   "source": []
  }
 ],
 "metadata": {
  "kernelspec": {
   "display_name": "Python 3 (ipykernel)",
   "language": "python",
   "name": "python3"
  },
  "language_info": {
   "codemirror_mode": {
    "name": "ipython",
    "version": 3
   },
   "file_extension": ".py",
   "mimetype": "text/x-python",
   "name": "python",
   "nbconvert_exporter": "python",
   "pygments_lexer": "ipython3",
   "version": "3.10.6"
  }
 },
 "nbformat": 4,
 "nbformat_minor": 5
}
